{
 "cells": [
  {
   "cell_type": "code",
   "execution_count": 3,
   "id": "a486c9fc",
   "metadata": {},
   "outputs": [],
   "source": [
    "#导入库\n",
    "from urllib.request import urlopen\n",
    "from urllib.parse import urlparse\n",
    "from bs4 import BeautifulSoup\n",
    "import requests\n",
    "import re\n",
    "import urllib.parse\n",
    "import time\n",
    "import random\n",
    "import pdfkit\n",
    "import subprocess\n",
    "import pandas as pd"
   ]
  },
  {
   "cell_type": "code",
   "execution_count": 2,
   "id": "a386cae1",
   "metadata": {},
   "outputs": [],
   "source": [
    "headers_={'User-Agent': 'Mozilla/5.0 (Windows NT 10.0; Win64; x64) AppleWebKit/537.36 (KHTML, like Gecko) Chrome/89.0.4389.114 Safari/537.36 Edg/89.0.774.68'}\n",
    "proxies = {\n",
    "    'http': '127.0.0.1:7890',\n",
    "    'https': '127.0.0.1:7890'\n",
    "}\n",
    "options = {\n",
    "    'no-background': None,\n",
    "    'page-size': 'Letter',\n",
    "    # add other options as needed\n",
    "}"
   ]
  },
  {
   "cell_type": "code",
   "execution_count": 3,
   "id": "dd42502d",
   "metadata": {},
   "outputs": [],
   "source": [
    "def savePDF(title, url, output_path):\n",
    "    name = title.replace(\":\", \"_\")\n",
    "    name = name.replace(\"/\", \"_\")\n",
    "    name = name.replace(\" \", \"_\")\n",
    "    output_path = f'{output_path}/{name}.pdf'\n",
    "\n",
    "    # Define the wkhtmltopdf command with the --no-stop-slow-scripts option\n",
    "    command = ['wkhtmltopdf', '--no-stop-slow-scripts', url, output_path]\n",
    "\n",
    "    # Call the wkhtmltopdf command using subprocess\n",
    "    result = subprocess.run(command, capture_output=True)\n",
    "\n",
    "    # Check the result of the command\n",
    "    if result.returncode != 0:\n",
    "        print(f\"下载失败，没有访问页面访问权限\")\n",
    "    else:\n",
    "        print(f\"PDF {url} saved to {output_path}\")"
   ]
  },
  {
   "cell_type": "code",
   "execution_count": 4,
   "id": "89ff9322",
   "metadata": {},
   "outputs": [],
   "source": [
    "# -*- coding: UTF8 -*-\n",
    "import json\n",
    "from selenium import webdriver\n",
    "\n",
    "def save_HTML2PDF(save_path, name, url):\n",
    "    \n",
    "    name = name.replace(\":\", \"_\")\n",
    "    name = name.replace(\"/\", \"_\")\n",
    "    name = name.replace(\" \", \"_\")\n",
    "    \n",
    "    #设置打印机的纸张大小、打印类型、保存路径等\n",
    "    chrome_driver_path = 'C:\\Program Files\\Google\\Chrome\\Application\\chromedriver.exe'\n",
    "    chrome_options = webdriver.ChromeOptions()\n",
    "    settings = {\n",
    "            \"recentDestinations\": [{\n",
    "                \"id\": \"Save as PDF\",\n",
    "                \"origin\": \"local\",\n",
    "                \"account\": \"\"\n",
    "            }],\n",
    "            \"selectedDestinationId\": \"Save as PDF\",\n",
    "            \"version\": 2,\n",
    "            \"isHeaderFooterEnabled\": False,\n",
    "\n",
    "            # \"customMargins\": {},\n",
    "            #\"marginsType\": 2,#边距（2是最小值、0是默认）\n",
    "            # \"scaling\": 100,\n",
    "            # \"scalingType\": 3,\n",
    "            # \"scalingTypePdf\": 3,\n",
    "            #\"isLandscapeEnabled\": True,  # 若不设置该参数，默认值为纵向\n",
    "            \"isCssBackgroundEnabled\": True,\n",
    "    #         \"mediaSize\": {\n",
    "    #             \"height_microns\": 297000,\n",
    "    #             \"name\": \"ISO_A4\",\n",
    "    #             \"width_microns\": 210000,\n",
    "    #             \"custom_display_name\": \"A4\"\n",
    "    #         },\n",
    "        }\n",
    "\n",
    "    # chrome_options.add_argument('--enable-print-browser')\n",
    "    chrome_options.add_argument('--print-to-pdf')\n",
    "    # chrome_options.add_argument('--headless') #headless模式下，浏览器窗口不可见，可提高效率\n",
    "    prefs = {\n",
    "        'printing.print_preview_sticky_settings.appState': json.dumps(settings),\n",
    "        'savefile.default_directory': save_path\n",
    "        #'C:\\\\Users\\\\12724\\\\Desktop\\\\HTMLtoPDF\\\\' \n",
    "        # 此处填写你希望文件保存的路径,可填写your file path默认下载地址\n",
    "    }\n",
    "\n",
    "    chrome_options.add_argument('--kiosk-printing')  # 静默打印，无需用户点击打印页面的确定按钮\n",
    "    chrome_options.add_experimental_option('prefs', prefs)\n",
    "\n",
    "    driver = webdriver.Chrome(chrome_driver_path, options=chrome_options)\n",
    "    driver.get(url)\n",
    "    driver.maximize_window()#浏览器最大化\n",
    "\n",
    "    page_height = driver.execute_script(\"return document.body.scrollHeight\")\n",
    "\n",
    "    # 设置滚动步长和间隔时间（可以根据需要进行调整）\n",
    "    scroll_step = 500  # 每次滚动的像素步长\n",
    "    scroll_interval = 1  # 每次滚动的时间间隔（秒）\n",
    "\n",
    "    # 慢慢滚动到底部\n",
    "    current_position = 0\n",
    "    while current_position < page_height:\n",
    "        # 滚动到当前位置 + 滚动步长\n",
    "        driver.execute_script(f\"window.scrollTo(0, {current_position + scroll_step});\")\n",
    "        current_position += scroll_step\n",
    "        time.sleep(scroll_interval)\n",
    "\n",
    "    # 等待一段时间确保内容加载完成（可根据需要进行调整）\n",
    "    time.sleep(3)\n",
    "\n",
    "    driver.execute_script(f'document.title=\"{name}.pdf\";window.print();')  # 利用js修改网页的title，该title最终就是PDF文件名，利用js的window.print可以快速调出浏览器打印窗口，避免使用热键ctrl+P\n",
    "        # driver.close()#关闭当前页\n",
    "\n",
    "    driver.quit()"
   ]
  },
  {
   "cell_type": "code",
   "execution_count": 5,
   "id": "e488d677",
   "metadata": {
    "scrolled": false
   },
   "outputs": [
    {
     "data": {
      "text/html": [
       "<div>\n",
       "<style scoped>\n",
       "    .dataframe tbody tr th:only-of-type {\n",
       "        vertical-align: middle;\n",
       "    }\n",
       "\n",
       "    .dataframe tbody tr th {\n",
       "        vertical-align: top;\n",
       "    }\n",
       "\n",
       "    .dataframe thead th {\n",
       "        text-align: right;\n",
       "    }\n",
       "</style>\n",
       "<table border=\"1\" class=\"dataframe\">\n",
       "  <thead>\n",
       "    <tr style=\"text-align: right;\">\n",
       "      <th></th>\n",
       "      <th>titles</th>\n",
       "      <th>links</th>\n",
       "    </tr>\n",
       "  </thead>\n",
       "  <tbody>\n",
       "    <tr>\n",
       "      <th>0</th>\n",
       "      <td>祝贺！电气领域5个团队入选 “全国高校黄大年式教师团队”！</td>\n",
       "      <td>http://mp.weixin.qq.com/s?__biz=MjM5NDUyMTE5MQ...</td>\n",
       "    </tr>\n",
       "    <tr>\n",
       "      <th>1</th>\n",
       "      <td>清华大学 李永东：我国交通电气化发展路线图及团队研究工作进展</td>\n",
       "      <td>http://mp.weixin.qq.com/s?__biz=MjM5NDUyMTE5MQ...</td>\n",
       "    </tr>\n",
       "    <tr>\n",
       "      <th>2</th>\n",
       "      <td>offer比较：985计算机硕，南方电网20 vs 华为50 vs 比亚迪35，选哪个比较好？</td>\n",
       "      <td>http://mp.weixin.qq.com/s?__biz=MjM5NDUyMTE5MQ...</td>\n",
       "    </tr>\n",
       "    <tr>\n",
       "      <th>3</th>\n",
       "      <td>祝贺！电气领域5个团队入选 “全国高校黄大年式教师团队”！</td>\n",
       "      <td>http://mp.weixin.qq.com/s?__biz=MjM5NDUyMTE5MQ...</td>\n",
       "    </tr>\n",
       "    <tr>\n",
       "      <th>4</th>\n",
       "      <td>清华大学 李永东：我国交通电气化发展路线图及团队研究工作进展</td>\n",
       "      <td>http://mp.weixin.qq.com/s?__biz=MjM5NDUyMTE5MQ...</td>\n",
       "    </tr>\n",
       "  </tbody>\n",
       "</table>\n",
       "</div>"
      ],
      "text/plain": [
       "                                            titles  \\\n",
       "0                    祝贺！电气领域5个团队入选 “全国高校黄大年式教师团队”！   \n",
       "1                   清华大学 李永东：我国交通电气化发展路线图及团队研究工作进展   \n",
       "2  offer比较：985计算机硕，南方电网20 vs 华为50 vs 比亚迪35，选哪个比较好？   \n",
       "3                    祝贺！电气领域5个团队入选 “全国高校黄大年式教师团队”！   \n",
       "4                   清华大学 李永东：我国交通电气化发展路线图及团队研究工作进展   \n",
       "\n",
       "                                               links  \n",
       "0  http://mp.weixin.qq.com/s?__biz=MjM5NDUyMTE5MQ...  \n",
       "1  http://mp.weixin.qq.com/s?__biz=MjM5NDUyMTE5MQ...  \n",
       "2  http://mp.weixin.qq.com/s?__biz=MjM5NDUyMTE5MQ...  \n",
       "3  http://mp.weixin.qq.com/s?__biz=MjM5NDUyMTE5MQ...  \n",
       "4  http://mp.weixin.qq.com/s?__biz=MjM5NDUyMTE5MQ...  "
      ]
     },
     "execution_count": 5,
     "metadata": {},
     "output_type": "execute_result"
    }
   ],
   "source": [
    "links = pd.read_csv(\"./公众号/电气小青年/电气小青年_list.csv\", encoding='GBK')\n",
    "links.head()"
   ]
  },
  {
   "cell_type": "code",
   "execution_count": 14,
   "id": "1268c394",
   "metadata": {},
   "outputs": [
    {
     "data": {
      "text/plain": [
       "185"
      ]
     },
     "execution_count": 14,
     "metadata": {},
     "output_type": "execute_result"
    }
   ],
   "source": [
    "#185"
   ]
  },
  {
   "cell_type": "code",
   "execution_count": 1,
   "id": "1d16a4ca",
   "metadata": {
    "scrolled": true
   },
   "outputs": [
    {
     "ename": "NameError",
     "evalue": "name 'links' is not defined",
     "output_type": "error",
     "traceback": [
      "\u001b[1;31m---------------------------------------------------------------------------\u001b[0m",
      "\u001b[1;31mNameError\u001b[0m                                 Traceback (most recent call last)",
      "\u001b[1;32m<ipython-input-1-9a7245e7c29d>\u001b[0m in \u001b[0;36m<module>\u001b[1;34m\u001b[0m\n\u001b[0;32m      1\u001b[0m \u001b[0mi\u001b[0m \u001b[1;33m=\u001b[0m \u001b[1;36m185\u001b[0m\u001b[1;33m\u001b[0m\u001b[1;33m\u001b[0m\u001b[0m\n\u001b[1;32m----> 2\u001b[1;33m \u001b[1;32mwhile\u001b[0m \u001b[0mi\u001b[0m \u001b[1;33m<\u001b[0m \u001b[0mlinks\u001b[0m\u001b[1;33m.\u001b[0m\u001b[0mshape\u001b[0m\u001b[1;33m[\u001b[0m\u001b[1;36m0\u001b[0m\u001b[1;33m]\u001b[0m\u001b[1;33m:\u001b[0m\u001b[1;33m\u001b[0m\u001b[1;33m\u001b[0m\u001b[0m\n\u001b[0m\u001b[0;32m      3\u001b[0m     \u001b[1;32mtry\u001b[0m\u001b[1;33m:\u001b[0m\u001b[1;33m\u001b[0m\u001b[1;33m\u001b[0m\u001b[0m\n\u001b[0;32m      4\u001b[0m         \u001b[0msave_HTML2PDF\u001b[0m\u001b[1;33m(\u001b[0m\u001b[1;34m'C:\\\\Users\\\\12724\\\\Desktop\\\\HTMLtoPDF\\\\公众号\\\\电气小青年\\\\'\u001b[0m\u001b[1;33m,\u001b[0m \u001b[0mlinks\u001b[0m\u001b[1;33m.\u001b[0m\u001b[0mloc\u001b[0m\u001b[1;33m[\u001b[0m\u001b[0mi\u001b[0m\u001b[1;33m]\u001b[0m\u001b[1;33m[\u001b[0m\u001b[1;34m'titles'\u001b[0m\u001b[1;33m]\u001b[0m\u001b[1;33m,\u001b[0m \u001b[0mlinks\u001b[0m\u001b[1;33m.\u001b[0m\u001b[0mloc\u001b[0m\u001b[1;33m[\u001b[0m\u001b[0mi\u001b[0m\u001b[1;33m]\u001b[0m\u001b[1;33m[\u001b[0m\u001b[1;34m'links'\u001b[0m\u001b[1;33m]\u001b[0m\u001b[1;33m)\u001b[0m\u001b[1;33m\u001b[0m\u001b[1;33m\u001b[0m\u001b[0m\n\u001b[0;32m      5\u001b[0m     \u001b[1;32mexcept\u001b[0m \u001b[0mException\u001b[0m \u001b[1;32mas\u001b[0m \u001b[0me\u001b[0m\u001b[1;33m:\u001b[0m\u001b[1;33m\u001b[0m\u001b[1;33m\u001b[0m\u001b[0m\n",
      "\u001b[1;31mNameError\u001b[0m: name 'links' is not defined"
     ]
    }
   ],
   "source": [
    "i = 185\n",
    "while i < links.shape[0]:\n",
    "    try:\n",
    "        save_HTML2PDF('C:\\\\Users\\\\12724\\\\Desktop\\\\HTMLtoPDF\\\\公众号\\\\电气小青年\\\\', links.loc[i]['titles'], links.loc[i]['links'])\n",
    "    except Exception as e:\n",
    "        # handle the exception\n",
    "        print(f\"无效的网页\")\n",
    "    i += 1"
   ]
  }
 ],
 "metadata": {
  "kernelspec": {
   "display_name": "Python 3",
   "language": "python",
   "name": "python3"
  },
  "language_info": {
   "codemirror_mode": {
    "name": "ipython",
    "version": 3
   },
   "file_extension": ".py",
   "mimetype": "text/x-python",
   "name": "python",
   "nbconvert_exporter": "python",
   "pygments_lexer": "ipython3",
   "version": "3.8.10"
  },
  "toc": {
   "base_numbering": 1,
   "nav_menu": {},
   "number_sections": true,
   "sideBar": true,
   "skip_h1_title": false,
   "title_cell": "Table of Contents",
   "title_sidebar": "Contents",
   "toc_cell": false,
   "toc_position": {},
   "toc_section_display": true,
   "toc_window_display": false
  }
 },
 "nbformat": 4,
 "nbformat_minor": 5
}
